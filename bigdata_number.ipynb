{
  "nbformat": 4,
  "nbformat_minor": 0,
  "metadata": {
    "colab": {
      "name": "bigdata-number.ipynb",
      "provenance": [],
      "authorship_tag": "ABX9TyOoY5jspXcImdez8UE3Ekg9",
      "include_colab_link": true
    },
    "kernelspec": {
      "name": "python3",
      "display_name": "Python 3"
    },
    "language_info": {
      "name": "python"
    }
  },
  "cells": [
    {
      "cell_type": "markdown",
      "metadata": {
        "id": "view-in-github",
        "colab_type": "text"
      },
      "source": [
        "<a href=\"https://colab.research.google.com/github/hwyoon217/AI/blob/main/bigdata_number.ipynb\" target=\"_parent\"><img src=\"https://colab.research.google.com/assets/colab-badge.svg\" alt=\"Open In Colab\"/></a>"
      ]
    },
    {
      "cell_type": "markdown",
      "source": [
        "숫자 인식 인공지능"
      ],
      "metadata": {
        "id": "UHFSLhfUv7Gx"
      }
    },
    {
      "cell_type": "code",
      "execution_count": null,
      "metadata": {
        "id": "TIBoYFFmpuXb"
      },
      "outputs": [],
      "source": [
        "from tensorflow.keras.models import Sequential         # 순차형태\n",
        "from tensorflow.keras.layers import Dense, Activation  # 뉴런개수, 활성화함수\n",
        "from tensorflow.keras.utils import to_categorical      # 범주화(0-9까지 구별) -> 원핫인코딩\n",
        "from tensorflow.keras.datasets import mnist            # mnist 데이터셋 불러오기\n",
        "import numpy as np\n",
        "import matplotlib.pyplot as plt"
      ]
    },
    {
      "cell_type": "code",
      "source": [
        "  (x_train, y_train), (x_test, y_test) = mnist.load_data()\n",
        "  print(x_train.shape)\n",
        "  print(x_test.shape)\n",
        "  print(y_train.shape)   # y 데이터는 1차원배열(튜플)\n",
        "  print(y_test.shape)"
      ],
      "metadata": {
        "colab": {
          "base_uri": "https://localhost:8080/"
        },
        "id": "5SvAC3SdwI23",
        "outputId": "30a1546c-ffd5-4325-b445-7d0effe8d998"
      },
      "execution_count": null,
      "outputs": [
        {
          "output_type": "stream",
          "name": "stdout",
          "text": [
            "(60000, 28, 28)\n",
            "(10000, 28, 28)\n",
            "(60000,)\n",
            "(10000,)\n"
          ]
        }
      ]
    },
    {
      "cell_type": "markdown",
      "source": [
        "x 데이터 형태 바꾸기 (모델링 하기위해서는 1줄로 바꿔야함)"
      ],
      "metadata": {
        "id": "n4y0WCsRzgp6"
      }
    },
    {
      "cell_type": "code",
      "source": [
        "X_train = x_train.reshape(60000,784)\n",
        "X_test = x_test.reshape(10000,784)\n",
        "X_train = X_train.astype('float32') / 255  # 흰색 = 0, 검은색 = 255, 회색 = 1~254 \n",
        "X_test = X_test.astype('float32') / 255    # 따라서 255 나누어 0~1 사이 값으로 변환\n",
        "print(X_train.shape)\n",
        "print(X_test.shape)"
      ],
      "metadata": {
        "colab": {
          "base_uri": "https://localhost:8080/"
        },
        "id": "kdHdkGKdzIV0",
        "outputId": "10719148-2de7-4417-a994-116c922a4357"
      },
      "execution_count": null,
      "outputs": [
        {
          "output_type": "stream",
          "name": "stdout",
          "text": [
            "(60000, 784)\n",
            "(10000, 784)\n"
          ]
        }
      ]
    },
    {
      "cell_type": "markdown",
      "source": [
        "y 데이터 형태 바꾸기 (수치형 데이터를 0-9까지의 범주형 데이터로 변환)"
      ],
      "metadata": {
        "id": "5pFcuZkH0hQg"
      }
    },
    {
      "cell_type": "code",
      "source": [
        "Y_train = to_categorical(y_train,10)\n",
        "Y_test = to_categorical(y_test, 10)\n",
        "print(Y_train.shape)\n",
        "print(Y_test.shape)"
      ],
      "metadata": {
        "colab": {
          "base_uri": "https://localhost:8080/"
        },
        "id": "7WJVYpQ70ejr",
        "outputId": "a1e112de-0685-445f-fa60-e7f975d6d343"
      },
      "execution_count": null,
      "outputs": [
        {
          "output_type": "stream",
          "name": "stdout",
          "text": [
            "(60000, 10)\n",
            "(10000, 10)\n"
          ]
        }
      ]
    },
    {
      "cell_type": "markdown",
      "source": [
        "모델 설계"
      ],
      "metadata": {
        "id": "4Z_5j-Rs1KYg"
      }
    },
    {
      "cell_type": "code",
      "source": [
        "model = Sequential()\n",
        "model.add(Dense(512, input_shape=(784,)))   # 첫번째 은닉층 (입력층 => 784개)\n",
        "model.add(Activation('relu'))\n",
        "model.add(Dense(256))                       # 두번째 은닉층\n",
        "model.add(Activation('relu'))\n",
        "model.add(Dense(10))                        # 출력층\n",
        "model.add(Activation('softmax'))            # 어떤 범주를 가장 높은 확률로 예측하는지 알아볼 때 사용\n",
        "model.summary()"
      ],
      "metadata": {
        "colab": {
          "base_uri": "https://localhost:8080/"
        },
        "id": "bLUgPnIo0euK",
        "outputId": "cb64918a-c8a6-407e-fec5-15a3a8836e17"
      },
      "execution_count": null,
      "outputs": [
        {
          "output_type": "stream",
          "name": "stdout",
          "text": [
            "Model: \"sequential\"\n",
            "_________________________________________________________________\n",
            " Layer (type)                Output Shape              Param #   \n",
            "=================================================================\n",
            " dense (Dense)               (None, 512)               401920    \n",
            "                                                                 \n",
            " activation (Activation)     (None, 512)               0         \n",
            "                                                                 \n",
            " dense_1 (Dense)             (None, 256)               131328    \n",
            "                                                                 \n",
            " activation_1 (Activation)   (None, 256)               0         \n",
            "                                                                 \n",
            " dense_2 (Dense)             (None, 10)                2570      \n",
            "                                                                 \n",
            " activation_2 (Activation)   (None, 10)                0         \n",
            "                                                                 \n",
            "=================================================================\n",
            "Total params: 535,818\n",
            "Trainable params: 535,818\n",
            "Non-trainable params: 0\n",
            "_________________________________________________________________\n"
          ]
        }
      ]
    },
    {
      "cell_type": "markdown",
      "source": [
        "모델 학습"
      ],
      "metadata": {
        "id": "sl2VrpKGqQGQ"
      }
    },
    {
      "cell_type": "code",
      "source": [
        "model.compile(loss='categorical_crossentropy', optimizer='adam', metrics=['accuracy'])\n",
        "model.fit(X_train,Y_train, batch_size=128, epochs=10, verbose=1)\n",
        "# batch_size : 데이터 크기, epochs : 학습횟수(너무 크면 과적합 문제 야기), verbose : 로깅 출력"
      ],
      "metadata": {
        "colab": {
          "base_uri": "https://localhost:8080/"
        },
        "id": "jY67RqmtpzAv",
        "outputId": "dcd4a2b5-5cfa-492a-c6b8-efd262a53404"
      },
      "execution_count": null,
      "outputs": [
        {
          "output_type": "stream",
          "name": "stdout",
          "text": [
            "Epoch 1/10\n",
            "469/469 [==============================] - 6s 12ms/step - loss: 0.2261 - accuracy: 0.9338\n",
            "Epoch 2/10\n",
            "469/469 [==============================] - 6s 12ms/step - loss: 0.0839 - accuracy: 0.9742\n",
            "Epoch 3/10\n",
            "469/469 [==============================] - 6s 12ms/step - loss: 0.0521 - accuracy: 0.9837\n",
            "Epoch 4/10\n",
            "469/469 [==============================] - 6s 13ms/step - loss: 0.0368 - accuracy: 0.9879\n",
            "Epoch 5/10\n",
            "469/469 [==============================] - 5s 12ms/step - loss: 0.0275 - accuracy: 0.9909\n",
            "Epoch 6/10\n",
            "469/469 [==============================] - 6s 12ms/step - loss: 0.0228 - accuracy: 0.9926\n",
            "Epoch 7/10\n",
            "469/469 [==============================] - 6s 12ms/step - loss: 0.0142 - accuracy: 0.9953\n",
            "Epoch 8/10\n",
            "469/469 [==============================] - 6s 12ms/step - loss: 0.0153 - accuracy: 0.9950\n",
            "Epoch 9/10\n",
            "469/469 [==============================] - 6s 12ms/step - loss: 0.0168 - accuracy: 0.9943\n",
            "Epoch 10/10\n",
            "469/469 [==============================] - 6s 12ms/step - loss: 0.0117 - accuracy: 0.9960\n"
          ]
        },
        {
          "output_type": "execute_result",
          "data": {
            "text/plain": [
              "<keras.callbacks.History at 0x7f8f842a4650>"
            ]
          },
          "metadata": {},
          "execution_count": 7
        }
      ]
    },
    {
      "cell_type": "markdown",
      "source": [
        "모델 정확도"
      ],
      "metadata": {
        "id": "eHTeOGdVvLmE"
      }
    },
    {
      "cell_type": "code",
      "source": [
        "score = model.evaluate(X_test,Y_test)\n",
        "print('Test Score : ', score[0])   # 오차값(0에 가까울수록 오차가 적은것)\n",
        "print('Test Accuracy : ', score[1])"
      ],
      "metadata": {
        "colab": {
          "base_uri": "https://localhost:8080/"
        },
        "id": "9RHeV1Urtc-3",
        "outputId": "fe62b112-cd34-468a-f013-f2148078bb15"
      },
      "execution_count": null,
      "outputs": [
        {
          "output_type": "stream",
          "name": "stdout",
          "text": [
            "313/313 [==============================] - 1s 3ms/step - loss: 0.0641 - accuracy: 0.9835\n",
            "Test Score :  0.06408929079771042\n",
            "Test Accuracy :  0.9835000038146973\n"
          ]
        }
      ]
    },
    {
      "cell_type": "markdown",
      "source": [
        "모델 학습 결과"
      ],
      "metadata": {
        "id": "fepKErz90Itn"
      }
    },
    {
      "cell_type": "code",
      "source": [
        "predicted_classes = np.argmax(model.predict(X_test), axis=1)\n",
        "correct_indices = np.nonzero(predicted_classes == y_test)[0]\n",
        "incorrect_indices = np.nonzero(predicted_classes != y_test)[0]"
      ],
      "metadata": {
        "id": "ILlnPvoTxdil"
      },
      "execution_count": null,
      "outputs": []
    },
    {
      "cell_type": "code",
      "source": [
        "plt.figure()\n",
        "for i in range(9):\n",
        "  plt.subplot(3,3,i+1)\n",
        "  correct = correct_indices[i]\n",
        "  plt.imshow(X_test[correct].reshape(28,28), cmap='gray')\n",
        "  plt.title ('Predicted {}, Class {}'.format(predicted_classes[correct],y_test[correct]))\n",
        "plt.tight_layout()"
      ],
      "metadata": {
        "colab": {
          "base_uri": "https://localhost:8080/",
          "height": 297
        },
        "id": "3Ak0-ZOo0r6F",
        "outputId": "dcdb042c-a1ce-45ac-f330-74c699c5c32d"
      },
      "execution_count": null,
      "outputs": [
        {
          "output_type": "display_data",
          "data": {
            "image/png": "[encoded data removed]",
            "text/plain": [
              "<Figure size 432x288 with 9 Axes>"
            ]
          },
          "metadata": {
            "needs_background": "light"
          }
        }
      ]
    },
    {
      "cell_type": "code",
      "source": [
        "plt.figure()\n",
        "for i in range(9):\n",
        "  plt.subplot(3,3,i+1)\n",
        "  incorrect = incorrect_indices[i]\n",
        "  plt.imshow(X_test[incorrect].reshape(28,28), cmap='gray')\n",
        "  plt.title ('Predicted {}, Class {}'.format(predicted_classes[incorrect],y_test[incorrect]))\n",
        "plt.tight_layout()"
      ],
      "metadata": {
        "colab": {
          "base_uri": "https://localhost:8080/",
          "height": 297
        },
        "id": "0Vp3CNuv1Vbl",
        "outputId": "625143fb-c9f3-45e9-829f-db1848594e9e"
      },
      "execution_count": null,
      "outputs": [
        {
          "output_type": "display_data",
          "data": {
            "image/png": "[encoded data removed]",
            "text/plain": [
              "<Figure size 432x288 with 9 Axes>"
            ]
          },
          "metadata": {
            "needs_background": "light"
          }
        }
      ]
    }
  ]
}